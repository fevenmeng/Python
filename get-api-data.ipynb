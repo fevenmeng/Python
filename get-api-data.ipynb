{
 "cells": [
  {
   "cell_type": "code",
   "execution_count": null,
   "metadata": {},
   "outputs": [
    {
     "name": "stdout",
     "output_type": "stream",
     "text": [
      "      name                                  url  growth_time  size\n",
      "0    cheri   https://pokeapi.co/api/v2/berry/1/            3    20\n",
      "1   chesto   https://pokeapi.co/api/v2/berry/2/            3    80\n",
      "2    pecha   https://pokeapi.co/api/v2/berry/3/            3    40\n",
      "3    rawst   https://pokeapi.co/api/v2/berry/4/            3    32\n",
      "4   aspear   https://pokeapi.co/api/v2/berry/5/            3    50\n",
      "5    leppa   https://pokeapi.co/api/v2/berry/6/            4    28\n",
      "6     oran   https://pokeapi.co/api/v2/berry/7/            4    35\n",
      "7   persim   https://pokeapi.co/api/v2/berry/8/            4    47\n",
      "8      lum   https://pokeapi.co/api/v2/berry/9/           12    34\n",
      "9   sitrus  https://pokeapi.co/api/v2/berry/10/            8    95\n",
      "10    figy  https://pokeapi.co/api/v2/berry/11/            5   100\n",
      "11    wiki  https://pokeapi.co/api/v2/berry/12/            5   115\n",
      "12    mago  https://pokeapi.co/api/v2/berry/13/            5   126\n",
      "13   aguav  https://pokeapi.co/api/v2/berry/14/            5    64\n",
      "14  iapapa  https://pokeapi.co/api/v2/berry/15/            5   223\n",
      "15    razz  https://pokeapi.co/api/v2/berry/16/            2   120\n",
      "16    bluk  https://pokeapi.co/api/v2/berry/17/            2   108\n",
      "17   nanab  https://pokeapi.co/api/v2/berry/18/            2    77\n",
      "18  wepear  https://pokeapi.co/api/v2/berry/19/            2    74\n",
      "19   pinap  https://pokeapi.co/api/v2/berry/20/            2    80\n"
     ]
    }
   ],
   "source": [
    "#--1-->get data from api https://pokeapi.co/docs/v2\n",
    "import pandas as pd\n",
    "import requests\n",
    "\n",
    "# Send a request to the PokeAPI berries endpoint\n",
    "url = \"https://pokeapi.co/api/v2/berry/\"\n",
    "response = requests.get(url)\n",
    "\n",
    "# Parse the JSON response\n",
    "berry_data = response.json()\n",
    "berries= berry_data['results']\n",
    "berries_lists=[]\n",
    "#loop through the lists\n",
    "for berry in berries:\n",
    "    berry_name = berry['name']\n",
    "    berry_url = berry['url']\n",
    "\n",
    "    \n",
    "    # Make another request to fetch details for each berry\n",
    "    berry_detail_response = requests.get(berry_url)\n",
    "    berry_detail = berry_detail_response.json()\n",
    "    \n",
    "    # Extract additional details about each berry\n",
    "    growth_time = berry_detail.get('growth_time', None)\n",
    "    size = berry_detail.get('size', None)\n",
    "    \n",
    "    # Add the data to the list\n",
    "    berries_lists.append({\n",
    "        'name': berry_name,\n",
    "        'url': berry_url,\n",
    "        'growth_time': growth_time,\n",
    "        'size': size\n",
    "    })\n",
    "\n",
    "# Create a pandas DataFrame with the extracted data\n",
    "df = pd.DataFrame(berries_lists)\n",
    "\n",
    "# Display the DataFrame\n",
    "print(df)\n",
    "  "
   ]
  },
  {
   "cell_type": "code",
   "execution_count": 3,
   "metadata": {},
   "outputs": [
    {
     "name": "stdout",
     "output_type": "stream",
     "text": [
      "             name        lat        lon country     state\n",
      "0          London  51.507322  -0.127647      GB   England\n",
      "1  City of London  51.515618  -0.091998      GB   England\n",
      "2          London  42.983241 -81.243372      CA   Ontario\n",
      "3         Chelsea  51.487517  -0.168701      GB   England\n",
      "4          London  37.128977 -84.083265      US  Kentucky\n"
     ]
    }
   ],
   "source": [
    "#--2-->get api data from https://openweathermap.org/api\n",
    "import pandas as pd\n",
    "import requests\n",
    "\n",
    "# Send a request to the OpenWeatherMap API\n",
    "url = \"http://api.openweathermap.org/geo/1.0/direct?q=London&limit=5&appid=900c367c5ae10e85e0b64d1a03ce2250\"\n",
    "weather = requests.get(url)\n",
    "\n",
    "# Parse the JSON response\n",
    "weather_date = weather.json()\n",
    "\n",
    "# Filtering the data to only include 'name', 'lat', 'lon','country' and 'state'\n",
    "filtered_data = [{'name': item['name'], 'lat': item['lat'], 'lon': item['lon'], 'country': item['country'],'state': item['state']} for item in weather_date]\n",
    "\n",
    "# Convert the filtered data into a pandas DataFrame\n",
    "df = pd.DataFrame(filtered_data)\n",
    "\n",
    "# Show the DataFrame\n",
    "print(df)\n"
   ]
  }
 ],
 "metadata": {
  "kernelspec": {
   "display_name": "Python 3",
   "language": "python",
   "name": "python3"
  },
  "language_info": {
   "codemirror_mode": {
    "name": "ipython",
    "version": 3
   },
   "file_extension": ".py",
   "mimetype": "text/x-python",
   "name": "python",
   "nbconvert_exporter": "python",
   "pygments_lexer": "ipython3",
   "version": "3.13.2"
  }
 },
 "nbformat": 4,
 "nbformat_minor": 2
}
